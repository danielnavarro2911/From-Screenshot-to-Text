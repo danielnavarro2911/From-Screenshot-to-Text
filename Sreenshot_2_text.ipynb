{
 "cells": [
  {
   "cell_type": "code",
   "execution_count": 1,
   "id": "88eea978-b1a5-4235-ac5b-8823b6d52abb",
   "metadata": {
    "tags": []
   },
   "outputs": [],
   "source": [
    "import pytesseract\n",
    "pytesseract.pytesseract.tesseract_cmd =r'C:\\Program Files\\Tesseract-OCR\\tesseract.exe'\n",
    "from PIL import ImageGrab\n",
    "import cv2"
   ]
  },
  {
   "cell_type": "code",
   "execution_count": 2,
   "id": "a567a364-509d-4dcc-8d61-ec5cd9521a8c",
   "metadata": {},
   "outputs": [],
   "source": [
    "img = ImageGrab.grabclipboard()\n",
    "text=pytesseract.image_to_string(img)"
   ]
  },
  {
   "cell_type": "code",
   "execution_count": 3,
   "id": "9dc83987-69c6-49f0-8f0f-0e23f1bff405",
   "metadata": {
    "tags": []
   },
   "outputs": [
    {
     "name": "stdout",
     "output_type": "stream",
     "text": [
      "SELECT *\n",
      "FROM DimProduct P\n",
      "\n",
      "INNER JOIN DimProductSubcategory PS\n",
      "\n",
      "ON P.ProductSubcategoryKey = PS.ProductSubcategorykey\n",
      "INNER JOIN DimProductCategory PC\n",
      "\n",
      "ON PS.ProductCategoryKey = PC.ProductCategorykey\n",
      "INNER JOIN FactStrategyPlan FS\n",
      "\n",
      "ON PC.ProductCategorykey = FS.ProductCategorykey\n",
      "\n"
     ]
    }
   ],
   "source": [
    "print(text)"
   ]
  }
 ],
 "metadata": {
  "kernelspec": {
   "display_name": "Python 3 (ipykernel)",
   "language": "python",
   "name": "python3"
  },
  "language_info": {
   "codemirror_mode": {
    "name": "ipython",
    "version": 3
   },
   "file_extension": ".py",
   "mimetype": "text/x-python",
   "name": "python",
   "nbconvert_exporter": "python",
   "pygments_lexer": "ipython3",
   "version": "3.11.5"
  }
 },
 "nbformat": 4,
 "nbformat_minor": 5
}
